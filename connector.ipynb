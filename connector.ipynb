{
 "cells": [
  {
   "cell_type": "code",
   "execution_count": 1,
   "metadata": {},
   "outputs": [],
   "source": [
    "import gspread \n",
    "from google.oauth2.service_account import Credentials\n"
   ]
  },
  {
   "cell_type": "code",
   "execution_count": 2,
   "metadata": {},
   "outputs": [],
   "source": [
    "scopes = [\"https://www.googleapis.com/auth/spreadsheets\"]\n",
    "creds = Credentials.from_service_account_file(\"static/creds.json\", scopes=scopes)\n",
    "client = gspread.authorize(creds)\n",
    "\n",
    "sheet_id = \"1gVJP3Locqtp5k0tpI2XOWKEZHMp5yHt4m2A5gb5BZdU\"\n",
    "workbook = client.open_by_key(sheet_id)\n",
    "\n"
   ]
  },
  {
   "cell_type": "code",
   "execution_count": 3,
   "metadata": {},
   "outputs": [
    {
     "name": "stdout",
     "output_type": "stream",
     "text": [
      "Saved Monday-Friday, October 28th - November 1st as results/worksheets\\MondayFriday October 28th  November 1st.csv\n",
      "Saved Saturday, November 2nd as results/worksheets\\Saturday November 2nd.csv\n",
      "Saved Sunday, November 3rd as results/worksheets\\Sunday November 3rd.csv\n",
      "Saved Monday-Friday, November 4th - 8th as results/worksheets\\MondayFriday November 4th  8th.csv\n",
      "Saved Saturday, November 9th as results/worksheets\\Saturday November 9th.csv\n",
      "Saved Sunday, November 10th as results/worksheets\\Sunday November 10th.csv\n",
      "Saved Print Only as results/worksheets\\Print Only.csv\n"
     ]
    }
   ],
   "source": [
    "import os\n",
    "import pandas as pd\n",
    "\n",
    "def save_all_worksheets_as_csv(workbook, folder_path=\"results/worksheets\"):\n",
    "    # Create the folder if it doesn't exist\n",
    "    os.makedirs(folder_path, exist_ok=True)\n",
    "\n",
    "    # Iterate through each worksheet in the workbook\n",
    "    for worksheet in workbook.worksheets():\n",
    "        # Get all values in the worksheet\n",
    "        data = worksheet.get_all_values()\n",
    "        \n",
    "        # Convert to DataFrame\n",
    "        if data:  # Ensure there is data in the worksheet\n",
    "            df = pd.DataFrame(data[1:], columns=data[0])\n",
    "        else:\n",
    "            df = pd.DataFrame()  # Create an empty DataFrame if no data\n",
    "        \n",
    "        # Define the filename with worksheet title and save as CSV\n",
    "        # Remove any characters from the title that are not allowed in filenames\n",
    "        filename = \"\".join([c for c in worksheet.title if c.isalnum() or c in (\" \", \"_\")]).rstrip()\n",
    "        csv_path = os.path.join(folder_path, f\"{filename}.csv\")\n",
    "        \n",
    "        # Save DataFrame as CSV\n",
    "        df.to_csv(csv_path, index=False)\n",
    "        print(f\"Saved {worksheet.title} as {csv_path}\")\n",
    "\n",
    "# Usage\n",
    "save_all_worksheets_as_csv(workbook)\n"
   ]
  }
 ],
 "metadata": {
  "kernelspec": {
   "display_name": "bdayvid",
   "language": "python",
   "name": "python3"
  },
  "language_info": {
   "codemirror_mode": {
    "name": "ipython",
    "version": 3
   },
   "file_extension": ".py",
   "mimetype": "text/x-python",
   "name": "python",
   "nbconvert_exporter": "python",
   "pygments_lexer": "ipython3",
   "version": "3.9.20"
  }
 },
 "nbformat": 4,
 "nbformat_minor": 2
}
