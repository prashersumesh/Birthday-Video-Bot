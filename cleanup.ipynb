{
 "cells": [
  {
   "cell_type": "code",
   "execution_count": 23,
   "metadata": {},
   "outputs": [
    {
     "name": "stdout",
     "output_type": "stream",
     "text": [
      "for Monday, November 4, 2024 : total parties : 1\n",
      "for Tuesday, November 5, 2024 : total parties : 0\n",
      "for Wednesday, November 6, 2024 : total parties : 0\n",
      "for Thursday, November 7, 2024 : total parties : 2\n",
      "for Friday, November 8, 2024 : total parties : 8\n",
      "for Monday, October 28, 2024 : total parties : 0\n",
      "for Tuesday, October 29, 2024 : total parties : 1\n",
      "for Wednesday, October 30, 2024 : total parties : 2\n",
      "for Thursday, October 31, 2024 : total parties : 0\n",
      "for Friday, November 1, 2024 : total parties : 10\n",
      "for Saturday, November 2, 2024 : total parties : 23\n",
      "for Saturday, November 9, 2024 : total parties : 0\n",
      "for Sunday, November 10, 2024 : total parties : 0\n",
      "for Sunday, November 3, 2024 : total parties : 15\n"
     ]
    }
   ],
   "source": [
    "import glob \n",
    "import pandas as pd\n",
    "from pathlib import Path\n",
    "\n",
    "from src.utils import ProcessWorkbooks\n",
    "\n",
    "csv_files = glob.glob(\"results/worksheets/*.csv\")\n",
    "\n",
    "for csv_file in csv_files:\n",
    "    \n",
    "    \n",
    "    file_pth = Path(csv_file)\n",
    "    file_pth = str(file_pth)\n",
    "\n",
    "    \n",
    "    processor = ProcessWorkbooks(df=pd.read_csv(file_pth, header=None))\n",
    "    \n",
    "    dict_file = processor.convert_to_dict()\n",
    "    \n",
    "    for k, v in dict_file.items(): \n",
    "        \n",
    "        print(f\"for {k} : total parties : {len(v)}\")\n",
    "    \n",
    "    "
   ]
  },
  {
   "cell_type": "code",
   "execution_count": null,
   "metadata": {},
   "outputs": [],
   "source": []
  }
 ],
 "metadata": {
  "kernelspec": {
   "display_name": "bdayvid",
   "language": "python",
   "name": "python3"
  },
  "language_info": {
   "codemirror_mode": {
    "name": "ipython",
    "version": 3
   },
   "file_extension": ".py",
   "mimetype": "text/x-python",
   "name": "python",
   "nbconvert_exporter": "python",
   "pygments_lexer": "ipython3",
   "version": "3.9.20"
  }
 },
 "nbformat": 4,
 "nbformat_minor": 2
}
